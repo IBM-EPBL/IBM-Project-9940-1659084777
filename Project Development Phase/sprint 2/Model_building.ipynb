{
 "cells": [
  {
   "cell_type": "code",
   "execution_count": 1,
   "id": "e58bf2a3",
   "metadata": {},
   "outputs": [],
   "source": [
    "# Importing the Keras libraries and packages\n",
    "from keras.models import Sequential\n",
    "from keras.layers import Convolution2D\n",
    "from keras.layers import MaxPooling2D\n",
    "from keras.layers import Flatten\n",
    "from keras.layers import Dense"
   ]
  },
  {
   "cell_type": "code",
   "execution_count": 2,
   "id": "dfd1921d",
   "metadata": {},
   "outputs": [],
   "source": [
    "# Initializing the CNN model\n",
    "classifier = Sequential()"
   ]
  },
  {
   "cell_type": "code",
   "execution_count": 3,
   "id": "e113c878",
   "metadata": {},
   "outputs": [],
   "source": [
    "# Adding CNN layers\n",
    "# First convolution layer and pooling\n",
    "classifier.add(Convolution2D(32, (3, 3), input_shape=(64, 64, 1), activation='relu'))\n",
    "classifier.add(MaxPooling2D(pool_size=(2, 2)))\n",
    "# Second convolution layer and pooling\n",
    "classifier.add(Convolution2D(32, (3, 3), activation='relu'))\n",
    "# input_shape is going to be the pooled feature maps from the previous convolution layer\n",
    "classifier.add(MaxPooling2D(pool_size=(2, 2)))\n",
    "# Flattening the layers\n",
    "classifier.add(Flatten())"
   ]
  },
  {
   "cell_type": "code",
   "execution_count": 4,
   "id": "066ddcc5",
   "metadata": {},
   "outputs": [
    {
     "name": "stdout",
     "output_type": "stream",
     "text": [
      "Model: \"sequential\"\n",
      "_________________________________________________________________\n",
      " Layer (type)                Output Shape              Param #   \n",
      "=================================================================\n",
      " conv2d (Conv2D)             (None, 62, 62, 32)        320       \n",
      "                                                                 \n",
      " max_pooling2d (MaxPooling2D  (None, 31, 31, 32)       0         \n",
      " )                                                               \n",
      "                                                                 \n",
      " conv2d_1 (Conv2D)           (None, 29, 29, 32)        9248      \n",
      "                                                                 \n",
      " max_pooling2d_1 (MaxPooling  (None, 14, 14, 32)       0         \n",
      " 2D)                                                             \n",
      "                                                                 \n",
      " flatten (Flatten)           (None, 6272)              0         \n",
      "                                                                 \n",
      " dense (Dense)               (None, 128)               802944    \n",
      "                                                                 \n",
      " dense_1 (Dense)             (None, 6)                 774       \n",
      "                                                                 \n",
      "=================================================================\n",
      "Total params: 813,286\n",
      "Trainable params: 813,286\n",
      "Non-trainable params: 0\n",
      "_________________________________________________________________\n"
     ]
    }
   ],
   "source": [
    "# Adding Dense layers\n",
    "# Adding a fully connected layer\n",
    "classifier.add(Dense(units=128, activation='relu'))\n",
    "classifier.add(Dense(units=6, activation='softmax')) # softmax for more than 2\n",
    "#summary of our model\n",
    "classifier.summary()"
   ]
  },
  {
   "cell_type": "code",
   "execution_count": 5,
   "id": "5997ab68",
   "metadata": {},
   "outputs": [],
   "source": [
    "# Compiling the CNN\n",
    "classifier.compile(optimizer='adam', loss='categorical_crossentropy', metrics=['accuracy']) # categorical_crossentropy for more than 2"
   ]
  },
  {
   "cell_type": "code",
   "execution_count": 6,
   "id": "80cb9e13",
   "metadata": {},
   "outputs": [],
   "source": [
    "#importing imageDataGenerator library\n",
    "from keras.preprocessing.image import ImageDataGenerator"
   ]
  },
  {
   "cell_type": "code",
   "execution_count": 7,
   "id": "9e56c2d4",
   "metadata": {},
   "outputs": [],
   "source": [
    "#configuring ImageDataGenerator class\n",
    "train_datagen = ImageDataGenerator(\n",
    "        rescale=1./255,\n",
    "        shear_range=0.2,\n",
    "        zoom_range=0.2,\n",
    "        horizontal_flip=True)\n",
    "\n",
    "test_datagen = ImageDataGenerator(rescale=1./255)"
   ]
  },
  {
   "cell_type": "code",
   "execution_count": 8,
   "id": "d0a5db36",
   "metadata": {},
   "outputs": [
    {
     "name": "stdout",
     "output_type": "stream",
     "text": [
      "Found 594 images belonging to 6 classes.\n",
      "Found 30 images belonging to 6 classes.\n"
     ]
    }
   ],
   "source": [
    "#Applying ImageDataGenerator Functionality To Trainset\n",
    "training_set = train_datagen.flow_from_directory('dataset/train',\n",
    "                                                 target_size=(64, 64),\n",
    "                                                 batch_size=5,\n",
    "                                                 color_mode='grayscale',\n",
    "                                                 class_mode='categorical')\n",
    "\n",
    "#Applying ImageDataGenerator Functionality To Testset\n",
    "test_set = test_datagen.flow_from_directory('dataset/test',\n",
    "                                            target_size=(64, 64),\n",
    "                                            batch_size=5,\n",
    "                                            color_mode='grayscale',\n",
    "                                            class_mode='categorical')"
   ]
  },
  {
   "cell_type": "code",
   "execution_count": 9,
   "id": "52dbb033",
   "metadata": {},
   "outputs": [
    {
     "name": "stdout",
     "output_type": "stream",
     "text": [
      "Epoch 1/10\n",
      "119/119 [==============================] - 16s 119ms/step - loss: 1.6110 - accuracy: 0.3603 - val_loss: 1.1996 - val_accuracy: 0.5667\n",
      "Epoch 2/10\n",
      "119/119 [==============================] - 3s 29ms/step - loss: 0.8314 - accuracy: 0.6801 - val_loss: 0.7818 - val_accuracy: 0.6000\n",
      "Epoch 3/10\n",
      "119/119 [==============================] - 4s 30ms/step - loss: 0.5705 - accuracy: 0.7542 - val_loss: 0.5586 - val_accuracy: 0.8333\n",
      "Epoch 4/10\n",
      "119/119 [==============================] - 4s 34ms/step - loss: 0.4092 - accuracy: 0.8519 - val_loss: 0.4686 - val_accuracy: 0.9333\n",
      "Epoch 5/10\n",
      "119/119 [==============================] - 4s 34ms/step - loss: 0.2981 - accuracy: 0.8872 - val_loss: 0.5966 - val_accuracy: 0.8333\n",
      "Epoch 6/10\n",
      "119/119 [==============================] - 4s 36ms/step - loss: 0.2608 - accuracy: 0.8973 - val_loss: 0.4364 - val_accuracy: 0.8667\n",
      "Epoch 7/10\n",
      "119/119 [==============================] - 4s 31ms/step - loss: 0.1982 - accuracy: 0.9310 - val_loss: 0.4402 - val_accuracy: 0.9000\n",
      "Epoch 8/10\n",
      "119/119 [==============================] - 4s 32ms/step - loss: 0.1411 - accuracy: 0.9562 - val_loss: 0.2819 - val_accuracy: 0.9333\n",
      "Epoch 9/10\n",
      "119/119 [==============================] - 5s 38ms/step - loss: 0.1352 - accuracy: 0.9394 - val_loss: 0.6548 - val_accuracy: 0.8000\n",
      "Epoch 10/10\n",
      "119/119 [==============================] - 4s 34ms/step - loss: 0.1499 - accuracy: 0.9545 - val_loss: 0.3254 - val_accuracy: 0.9000\n"
     ]
    },
    {
     "data": {
      "text/plain": [
       "<keras.callbacks.History at 0x2c5dbf5ea00>"
      ]
     },
     "execution_count": 9,
     "metadata": {},
     "output_type": "execute_result"
    }
   ],
   "source": [
    "# Training the model\n",
    "classifier.fit(\n",
    "        training_set,\n",
    "        epochs=10,\n",
    "        validation_data=test_set)"
   ]
  },
  {
   "cell_type": "code",
   "execution_count": 10,
   "id": "701222d1",
   "metadata": {},
   "outputs": [],
   "source": [
    "# Saving the model\n",
    "model_json = classifier.to_json()\n",
    "with open(\"model.json\", \"w\") as json_file:\n",
    "    json_file.write(model_json)\n",
    "classifier.save_weights('model.h5')"
   ]
  },
  {
   "cell_type": "code",
   "execution_count": null,
   "id": "223a9548",
   "metadata": {},
   "outputs": [],
   "source": []
  }
 ],
 "metadata": {
  "kernelspec": {
   "display_name": "Python 3 (ipykernel)",
   "language": "python",
   "name": "python3"
  },
  "language_info": {
   "codemirror_mode": {
    "name": "ipython",
    "version": 3
   },
   "file_extension": ".py",
   "mimetype": "text/x-python",
   "name": "python",
   "nbconvert_exporter": "python",
   "pygments_lexer": "ipython3",
   "version": "3.9.13"
  }
 },
 "nbformat": 4,
 "nbformat_minor": 5
}
